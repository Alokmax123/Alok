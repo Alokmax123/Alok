{
 "cells": [
  {
   "cell_type": "code",
   "execution_count": 4,
   "metadata": {},
   "outputs": [
    {
     "name": "stdout",
     "output_type": "stream",
     "text": [
      "Common elements are: ['Mahesh', 'Ali', 'Jacob']\n"
     ]
    }
   ],
   "source": [
    "#Q1: You are working in a bank and you have been given two lists of the employees who worked in 2021. Employee’s name in list 1 are Ramesh, Suresh, Mahesh, Ali, Jacob and Saritha.\n",
    "#    List 2 contains the names of Ali, Mukesh, Mahesh, Jacob, Sai, Sarita. Please write a program which helps to identify people who are common in both lists. Please do not use any in-built function.\n",
    "list1=['Ramesh', 'Suresh', 'Mahesh', 'Ali', 'Jacob', 'Saritha']\n",
    "list2=['Ali', 'Mukesh', 'Mahesh', 'Jacob', 'Sai', 'Sarita']\n",
    "list3=[]\n",
    "for i in list1:\n",
    "    if i in list2:\n",
    "        list3.append(i)\n",
    "print(\"Common elements are:\",list3)"
   ]
  },
  {
   "cell_type": "code",
   "execution_count": 5,
   "metadata": {},
   "outputs": [
    {
     "data": {
      "text/plain": [
       "{'Ramesh': 30, 'Suresh': 20, 'Mohit': 10}"
      ]
     },
     "execution_count": 5,
     "metadata": {},
     "output_type": "execute_result"
    }
   ],
   "source": [
    "#Q2: While entering data, someone entered a few names as a common string “Ramesh Suresh Mohit”. Please write a program which separates all the names and convert them into a list. \n",
    "# Once converted in a list, please write a program which adds their age.\n",
    "var1=\"Ramesh Suresh Mohit\"\n",
    "var2=[30,20,10]\n",
    "var3=var1.split()\n",
    "dict={}\n",
    "for i,j in zip(var3,var2):\n",
    "    dict[i]=j\n",
    "\n",
    "dict\n"
   ]
  },
  {
   "cell_type": "code",
   "execution_count": 6,
   "metadata": {},
   "outputs": [
    {
     "name": "stdout",
     "output_type": "stream",
     "text": [
      "The mean of Python is 27.0\n",
      "The mean of Statistics is 22.0\n",
      "The mean of SQL is 27.25\n",
      "Highest mean value is 27.25\n",
      "Highest mark in python Tom\n"
     ]
    }
   ],
   "source": [
    "#Please write a program which calculates mean values (no in-built function for mean) of all three tests and print the highest mean value. \n",
    "# Addition and other functions are allowed. \n",
    "# Please also report who scored the highest mark in python using programming construct.\n",
    "Name =['Sam', 'Jacy', 'Tom', 'Steve']\n",
    "Python =[25, 26, 29, 28]\n",
    "Statistics=[23, 21, 19, 25]\n",
    "SQL=[29, 27, 28, 25]\n",
    "mean1=sum1=0\n",
    "for i in range(0,len(Python)):\n",
    "    sum1+=Python[i]\n",
    "mean1=sum1/len(Python)\n",
    "print(\"The mean of Python is\",mean1)\n",
    "mean2=sum2=0\n",
    "for i in range(0,len(Statistics)):\n",
    "    sum2+=Statistics[i]\n",
    "mean2=sum2/len(Statistics)\n",
    "print(\"The mean of Statistics is\",mean2)\n",
    "mean3=sum3=0\n",
    "for i in range(0,len(SQL)):\n",
    "    sum3+=SQL[i]\n",
    "mean3=sum3/len(SQL)\n",
    "print(\"The mean of SQL is\",mean3)\n",
    "print(\"Highest mean value is\",max(mean1, mean2, mean3))\n",
    "\n",
    "dict={}\n",
    "for i,j in zip(Name,Python):\n",
    "    dict[i]=j\n",
    "dict\n",
    "print(\"Highest mark in python\",max(dict))\n",
    "\n"
   ]
  },
  {
   "cell_type": "code",
   "execution_count": 7,
   "metadata": {},
   "outputs": [
    {
     "name": "stdout",
     "output_type": "stream",
     "text": [
      "Price of each medicine [70, 147, 165]\n",
      "Total price of medicine is 382\n",
      "Money need to return 1618\n"
     ]
    }
   ],
   "source": [
    "#Q4: You are working in a medical store. A patient came to your medical store and asked to buy 2 strips of paracetamol, 3 strips of azithromycin and 5 strips of Vitamin C. \n",
    "# One strip of paracetamol costs Rs 35, one strip of azithromycin costs Rs 49 and one strip of vitamin c costs Rs. 33. Patient gave you Rs 2000. \n",
    "# Please tell us what is the total cost of each medicine, total cost of all medicine and how much money you refunded to the patient?\n",
    "Name =['paracetamol', 'azithromycin', 'Vitamin C']\n",
    "Price =[35, 49, 33]\n",
    "strips=[2,3,5]\n",
    "Price_strips=[]\n",
    "total=0\n",
    "Patient_money=2000\n",
    "for i in range(0,len(Price)):\n",
    "    Price_strips.append(Price[i]*strips[i])\n",
    "print(\"Price of each medicine\",Price_strips) # Cost of each medicine\n",
    "\n",
    "for i in range(0,len(Price_strips)):\n",
    "    total=total + Price_strips[i]\n",
    "print(\"Total price of medicine is\",total) # Please tell us what is the total cost of each medicine\n",
    "print(\"Money need to return\",Patient_money-total)\n"
   ]
  },
  {
   "cell_type": "code",
   "execution_count": 8,
   "metadata": {},
   "outputs": [
    {
     "name": "stdout",
     "output_type": "stream",
     "text": [
      "Total vowels are : 6\n"
     ]
    }
   ],
   "source": [
    "#Q5: Accept a sentence as input and find the number of vowels in it.\n",
    "# Assume that the sentence has no punctuation marks. For example: I am learning python contains 6 vowels. This function should be applicable for all other different sentences.\n",
    "Str = input('Enter the string :')\n",
    "count = 0\n",
    "#Converted the entered string in lowercase\n",
    "Str = Str.lower()\n",
    "for i in Str:\n",
    "    if i == 'a' or i == 'e' or i == 'i' or i == 'o' or i == 'u':\n",
    "            count+=1\n",
    "if count == 0:\n",
    "    print('No vowels found')\n",
    "else:\n",
    "    print(\"Total vowels are :\",count)\n"
   ]
  },
  {
   "cell_type": "code",
   "execution_count": 80,
   "metadata": {},
   "outputs": [
    {
     "name": "stdout",
     "output_type": "stream",
     "text": [
      "Return after 6 year(s)\n"
     ]
    }
   ],
   "source": [
    "#Q6: You have been appointed by the election commission to create a website. Your first task is to work on a program which tells candidates if they are eligible for voting or not. \n",
    "# If they are eligible your output should be ‘Congrats! You are eligible’, otherwise it should tell that you have to return after X number of years. \n",
    "# Eligibility criteria for voting is 18 years.\n",
    "#For example, If someone is 18 or above your output should be ‘Congrats! You are eligible’. If someone’s age is 15 years it should print output as ‘return after 3 years’.\n",
    "\n",
    "Age = int(input('Please enter your age for elegibility for voting:'))\n",
    "if Age>=18:\n",
    "    print(\"Congrats! You are eligible\")\n",
    "else:\n",
    "    print(\"Return after\",18-Age ,\"year(s)\")\n"
   ]
  }
 ],
 "metadata": {
  "kernelspec": {
   "display_name": "Python 3",
   "language": "python",
   "name": "python3"
  },
  "language_info": {
   "codemirror_mode": {
    "name": "ipython",
    "version": 3
   },
   "file_extension": ".py",
   "mimetype": "text/x-python",
   "name": "python",
   "nbconvert_exporter": "python",
   "pygments_lexer": "ipython3",
   "version": "3.10.4 (tags/v3.10.4:9d38120, Mar 23 2022, 23:13:41) [MSC v.1929 64 bit (AMD64)]"
  },
  "orig_nbformat": 4,
  "vscode": {
   "interpreter": {
    "hash": "369f2c481f4da34e4445cda3fffd2e751bd1c4d706f27375911949ba6bb62e1c"
   }
  }
 },
 "nbformat": 4,
 "nbformat_minor": 2
}
